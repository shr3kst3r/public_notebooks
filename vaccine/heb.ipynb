{
 "cells": [
  {
   "cell_type": "code",
   "execution_count": 7,
   "id": "major-disclosure",
   "metadata": {},
   "outputs": [],
   "source": [
    "import json\n",
    "import requests\n",
    "\n",
    "import pandas as pd"
   ]
  },
  {
   "cell_type": "code",
   "execution_count": 8,
   "id": "honey-religious",
   "metadata": {},
   "outputs": [],
   "source": [
    "def find_vacines():\n",
    "    \"\"\" Look HEB open vaccine slots \"\"\"\n",
    "    response = requests.get('https://heb-ecom-covid-vaccine.hebdigital-prd.com/vaccine_locations.json')\n",
    "    response.raise_for_status()\n",
    "\n",
    "    return pd.DataFrame(response.json()['locations'])\n",
    "\n",
    "def find_manufacturer(df):\n",
    "    \"\"\" Strip out the vaccine manufacturer \"\"\"\n",
    "    def get_manufacturer(l):\n",
    "        if len(l) > 0:\n",
    "            return l[0]['manufacturer']\n",
    "        \n",
    "        return ''\n",
    "\n",
    "    df['manufacturer'] = df['slotDetails'].apply(lambda x: get_manufacturer(x))\n",
    "\n",
    "    return df\n",
    "\n",
    "def lookup_stores(df, addr_zip, radius):\n",
    "    \"\"\" Fine HEB stores near me \"\"\"\n",
    "    query = \"\"\"\n",
    "    query StoreSearch($address: String!, $radius: Int!, $fulfillmentChannels: [FulfillmentChannelName]) {\n",
    "      searchStoresByAddress(\n",
    "        address: $address\n",
    "        radiusMiles: $radius\n",
    "        fulfillmentChannels: $fulfillmentChannels\n",
    "      ) {\n",
    "        stores {\n",
    "          distanceMiles\n",
    "          store {\n",
    "            storeNumber\n",
    "          }\n",
    "        }\n",
    "      }\n",
    "    }\n",
    "    \"\"\"\n",
    "\n",
    "    headers = {\n",
    "        'Content-Type': 'application/json'\n",
    "    }\n",
    "\n",
    "    data = {\"query\": query}\n",
    "\n",
    "    variables = {\n",
    "      \"address\": addr_zip,\n",
    "      \"radius\": radius,\n",
    "      \"fulfillmentChannels\": []\n",
    "    }\n",
    "\n",
    "    if variables:\n",
    "        data[\"variables\"] = variables\n",
    "\n",
    "    url = \"https://api-edge.heb-ecom-api.hebdigital-prd.com/graphql\"\n",
    "\n",
    "    response = requests.post(url, headers=headers, data=json.dumps(data))\n",
    "    response.raise_for_status()\n",
    "\n",
    "    results = json.loads(response.text)\n",
    "    df_stores = pd.json_normalize(results['data']['searchStoresByAddress']['stores']).rename(columns={\"store.storeNumber\": \"storeNumber\"}).set_index('storeNumber')\n",
    "    \n",
    "    return df.set_index('storeNumber').join(df_stores).reset_index()"
   ]
  },
  {
   "cell_type": "markdown",
   "id": "focused-contrary",
   "metadata": {},
   "source": [
    "## Note: Change addr_zip to relevant zip code"
   ]
  },
  {
   "cell_type": "code",
   "execution_count": 9,
   "id": "exact-associate",
   "metadata": {},
   "outputs": [],
   "source": [
    "addr_zip = \"78681\"\n",
    "radius = 100  # miles\n",
    "\n",
    "df = (\n",
    "    find_vacines()\n",
    "    .pipe(find_manufacturer)\n",
    "    .drop(columns = ['slotDetails'])\n",
    "    .pipe(lookup_stores, addr_zip, radius)\n",
    ")"
   ]
  },
  {
   "cell_type": "markdown",
   "id": "cooperative-spotlight",
   "metadata": {},
   "source": [
    "## All open HEB slots"
   ]
  },
  {
   "cell_type": "code",
   "execution_count": 10,
   "id": "suited-edgar",
   "metadata": {},
   "outputs": [
    {
     "output_type": "execute_result",
     "data": {
      "text/plain": [
       "     storeNumber         zip  \\\n",
       "17          51.0  79720-5437   \n",
       "22          64.0  76708-1675   \n",
       "99         387.0  79762-5947   \n",
       "236        692.0     77701-0   \n",
       "251        711.0  79764-7155   \n",
       "\n",
       "                                                   url   type  \\\n",
       "17   https://heb.secure.force.com/FlexibleScheduler...  store   \n",
       "22   https://heb.secure.force.com/FlexibleScheduler...  store   \n",
       "99   https://heb.secure.force.com/FlexibleScheduler...  store   \n",
       "236  https://heb.secure.force.com/FlexibleScheduler...  store   \n",
       "251  https://heb.secure.force.com/FlexibleScheduler...  store   \n",
       "\n",
       "                     street state  openTimeslots  openAppointmentSlots  \\\n",
       "17         2000 SOUTH GREGG    TX              1                     1   \n",
       "22          3801 N 19TH ST.    TX              1                     1   \n",
       "99              3801 E 42ND    TX              1                     1   \n",
       "236         3590 COLLEGE ST    TX              2                     2   \n",
       "251  2501 W UNIVERSITY BLVD    TX              1                     1   \n",
       "\n",
       "                        name  longitude  latitude        city manufacturer  \\\n",
       "17          Big Spring H-E-B -101.47211  32.23493  BIG SPRING      Moderna   \n",
       "22   19th and Meridian H-E-B  -97.17255  31.58040        WACO       Pfizer   \n",
       "99            42nd St. H-E-B -102.34383  31.89134      ODESSA      Moderna   \n",
       "236         Beaumont 6 H-E-B  -94.12834  30.06853    BEAUMONT      Moderna   \n",
       "251    University Blvd H-E-B -102.41008  31.86213      ODESSA      Moderna   \n",
       "\n",
       "     distanceMiles  \n",
       "17             NaN  \n",
       "22             NaN  \n",
       "99             NaN  \n",
       "236            NaN  \n",
       "251            NaN  "
      ],
      "text/html": "<div>\n<style scoped>\n    .dataframe tbody tr th:only-of-type {\n        vertical-align: middle;\n    }\n\n    .dataframe tbody tr th {\n        vertical-align: top;\n    }\n\n    .dataframe thead th {\n        text-align: right;\n    }\n</style>\n<table border=\"1\" class=\"dataframe\">\n  <thead>\n    <tr style=\"text-align: right;\">\n      <th></th>\n      <th>storeNumber</th>\n      <th>zip</th>\n      <th>url</th>\n      <th>type</th>\n      <th>street</th>\n      <th>state</th>\n      <th>openTimeslots</th>\n      <th>openAppointmentSlots</th>\n      <th>name</th>\n      <th>longitude</th>\n      <th>latitude</th>\n      <th>city</th>\n      <th>manufacturer</th>\n      <th>distanceMiles</th>\n    </tr>\n  </thead>\n  <tbody>\n    <tr>\n      <th>17</th>\n      <td>51.0</td>\n      <td>79720-5437</td>\n      <td>https://heb.secure.force.com/FlexibleScheduler...</td>\n      <td>store</td>\n      <td>2000 SOUTH GREGG</td>\n      <td>TX</td>\n      <td>1</td>\n      <td>1</td>\n      <td>Big Spring H-E-B</td>\n      <td>-101.47211</td>\n      <td>32.23493</td>\n      <td>BIG SPRING</td>\n      <td>Moderna</td>\n      <td>NaN</td>\n    </tr>\n    <tr>\n      <th>22</th>\n      <td>64.0</td>\n      <td>76708-1675</td>\n      <td>https://heb.secure.force.com/FlexibleScheduler...</td>\n      <td>store</td>\n      <td>3801 N 19TH ST.</td>\n      <td>TX</td>\n      <td>1</td>\n      <td>1</td>\n      <td>19th and Meridian H-E-B</td>\n      <td>-97.17255</td>\n      <td>31.58040</td>\n      <td>WACO</td>\n      <td>Pfizer</td>\n      <td>NaN</td>\n    </tr>\n    <tr>\n      <th>99</th>\n      <td>387.0</td>\n      <td>79762-5947</td>\n      <td>https://heb.secure.force.com/FlexibleScheduler...</td>\n      <td>store</td>\n      <td>3801 E 42ND</td>\n      <td>TX</td>\n      <td>1</td>\n      <td>1</td>\n      <td>42nd St. H-E-B</td>\n      <td>-102.34383</td>\n      <td>31.89134</td>\n      <td>ODESSA</td>\n      <td>Moderna</td>\n      <td>NaN</td>\n    </tr>\n    <tr>\n      <th>236</th>\n      <td>692.0</td>\n      <td>77701-0</td>\n      <td>https://heb.secure.force.com/FlexibleScheduler...</td>\n      <td>store</td>\n      <td>3590 COLLEGE ST</td>\n      <td>TX</td>\n      <td>2</td>\n      <td>2</td>\n      <td>Beaumont 6 H-E-B</td>\n      <td>-94.12834</td>\n      <td>30.06853</td>\n      <td>BEAUMONT</td>\n      <td>Moderna</td>\n      <td>NaN</td>\n    </tr>\n    <tr>\n      <th>251</th>\n      <td>711.0</td>\n      <td>79764-7155</td>\n      <td>https://heb.secure.force.com/FlexibleScheduler...</td>\n      <td>store</td>\n      <td>2501 W UNIVERSITY BLVD</td>\n      <td>TX</td>\n      <td>1</td>\n      <td>1</td>\n      <td>University Blvd H-E-B</td>\n      <td>-102.41008</td>\n      <td>31.86213</td>\n      <td>ODESSA</td>\n      <td>Moderna</td>\n      <td>NaN</td>\n    </tr>\n  </tbody>\n</table>\n</div>"
     },
     "metadata": {},
     "execution_count": 10
    }
   ],
   "source": [
    "df[df['openTimeslots']>0]"
   ]
  },
  {
   "cell_type": "markdown",
   "id": "psychological-therapy",
   "metadata": {},
   "source": [
    "## Open HEB slots near me"
   ]
  },
  {
   "cell_type": "code",
   "execution_count": 11,
   "id": "taken-surprise",
   "metadata": {},
   "outputs": [
    {
     "output_type": "execute_result",
     "data": {
      "text/plain": [
       "Empty DataFrame\n",
       "Columns: [storeNumber, zip, url, type, street, state, openTimeslots, openAppointmentSlots, name, longitude, latitude, city, manufacturer, distanceMiles]\n",
       "Index: []"
      ],
      "text/html": "<div>\n<style scoped>\n    .dataframe tbody tr th:only-of-type {\n        vertical-align: middle;\n    }\n\n    .dataframe tbody tr th {\n        vertical-align: top;\n    }\n\n    .dataframe thead th {\n        text-align: right;\n    }\n</style>\n<table border=\"1\" class=\"dataframe\">\n  <thead>\n    <tr style=\"text-align: right;\">\n      <th></th>\n      <th>storeNumber</th>\n      <th>zip</th>\n      <th>url</th>\n      <th>type</th>\n      <th>street</th>\n      <th>state</th>\n      <th>openTimeslots</th>\n      <th>openAppointmentSlots</th>\n      <th>name</th>\n      <th>longitude</th>\n      <th>latitude</th>\n      <th>city</th>\n      <th>manufacturer</th>\n      <th>distanceMiles</th>\n    </tr>\n  </thead>\n  <tbody>\n  </tbody>\n</table>\n</div>"
     },
     "metadata": {},
     "execution_count": 11
    }
   ],
   "source": [
    "df[(df['openTimeslots']>0) & (df['distanceMiles'].notna())].sort_values(by = ['distanceMiles'])"
   ]
  },
  {
   "cell_type": "markdown",
   "id": "impossible-sheep",
   "metadata": {},
   "source": [
    "## HEB stores near me"
   ]
  },
  {
   "cell_type": "code",
   "execution_count": 12,
   "id": "historic-renaissance",
   "metadata": {},
   "outputs": [
    {
     "output_type": "execute_result",
     "data": {
      "text/plain": [
       "     storeNumber         zip   url   type                         street  \\\n",
       "93         373.0  78681-3922  None  store         16900 N RANCH ROAD 620   \n",
       "228        673.0  78665-1044  None  store           250 UNIVERSITY BLVD.   \n",
       "179        580.0  78613-7273  None  store           2800 EAST WHITESTONE   \n",
       "188        591.0  78664-4677  None  store     1700 EAST PALM VALLEY BLVD   \n",
       "152        495.0  78664-7186  None  store   603 LOUIS HENNA BLVD. BLDG A   \n",
       "222        659.0  78717-5992  None  store             14028 NORTH US 183   \n",
       "82         265.0  78613-1900  None  store          170 E WHITESTONE BLVD   \n",
       "100        388.0  78727-3901  None  store          6001 WEST PARMER LANE   \n",
       "12          34.0  78664-4642  None  store          3750 GATTIS SCHOOL RD   \n",
       "75         237.0  78626-5400  None  store                1100 SOUTH IH35   \n",
       "74         236.0  78660-3153  None  store         1434 WELLS BRANCH PKWY   \n",
       "11          31.0  78750-3222  None  store            12860 RESEARCH BLVD   \n",
       "63         218.0  78758-2475  None  store           12407 N. MOPAC EXPWY   \n",
       "6           24.0  78726-1168  None  store  11521 NORTH FM620, BUILDING A   \n",
       "189        592.0  78641-7001  None  store              651 N. US HWY 183   \n",
       "239        696.0  78634-2025  None  store          5000 GATTIS SCHOOL RD   \n",
       "83         269.0  78759-5780  None  store   10710 RESEARCH BLVD. STE 200   \n",
       "144        479.0  78660-8045  None  store                     201 FM 685   \n",
       "142        476.0  78753-1632  None  store           500 CANYON RIDGE DR.   \n",
       "147        487.0     78628-0  None  store                   4500 FM 2338   \n",
       "132        451.0  78726-4539  None  store                  7301 N FM 620   \n",
       "50         183.0  78753-4106  None  store              9414 N LAMAR BLVD   \n",
       "34          96.0  78731-3023  None  store           7015 VILLAGE CTR DR.   \n",
       "57         202.0  78756-1100  None  store                 5808 BURNET RD   \n",
       "44         161.0  78723-2924  None  store         7112 ED BLUESTEIN_#125   \n",
       "\n",
       "    state  openTimeslots  openAppointmentSlots  \\\n",
       "93     TX              0                     0   \n",
       "228    TX              0                     0   \n",
       "179    TX              0                     0   \n",
       "188    TX              0                     0   \n",
       "152    TX              0                     0   \n",
       "222    TX              0                     0   \n",
       "82     TX              0                     0   \n",
       "100    TX              0                     0   \n",
       "12     TX              0                     0   \n",
       "75     TX              0                     0   \n",
       "74     TX              0                     0   \n",
       "11     TX              0                     0   \n",
       "63     TX              0                     0   \n",
       "6      TX              0                     0   \n",
       "189    TX              0                     0   \n",
       "239    TX              0                     0   \n",
       "83     TX              0                     0   \n",
       "144    TX              0                     0   \n",
       "142    TX              0                     0   \n",
       "147    TX              0                     0   \n",
       "132    TX              0                     0   \n",
       "50     TX              0                     0   \n",
       "34     TX              0                     0   \n",
       "57     TX              0                     0   \n",
       "44     TX              0                     0   \n",
       "\n",
       "                                  name  longitude  latitude          city  \\\n",
       "93              620 and O'Connor H-E-B  -97.72218  30.50028    ROUND ROCK   \n",
       "228              University Blvd H-E-B  -97.68859  30.56107    ROUND ROCK   \n",
       "179        Parmer and Whitestone H-E-B  -97.78545  30.53280    CEDAR PARK   \n",
       "188             Round Rock H-E-B plus!  -97.65978  30.51770    ROUND ROCK   \n",
       "152             Louis Henna Blvd H-E-B  -97.65938  30.48179    ROUND ROCK   \n",
       "222               Lakeline H-E-B plus!  -97.80340  30.47786        AUSTIN   \n",
       "82   Hwy 183 and Whitestone Blvd H-E-B  -97.82911  30.52250    CEDAR PARK   \n",
       "100            Parmer and McNeil H-E-B  -97.74278  30.44181        AUSTIN   \n",
       "12              Gattis School Rd H-E-B  -97.61475  30.49721    ROUND ROCK   \n",
       "75                    Georgetown H-E-B  -97.69028  30.63446    GEORGETOWN   \n",
       "74                  Wells Branch H-E-B  -97.66419  30.44263  PFLUGERVILLE   \n",
       "11             Spicewood Springs H-E-B  -97.77130  30.43494        AUSTIN   \n",
       "63              Parmer and Mopac H-E-B  -97.70326  30.41883        AUSTIN   \n",
       "6            Anderson Mill H-E-B plus!  -97.82626  30.45495        AUSTIN   \n",
       "189                Leander H-E-B plus!  -97.85820  30.58369       LEANDER   \n",
       "239                  Hutto H-E-B plus!  -97.58284  30.50112         HUTTO   \n",
       "83                   North Hills H-E-B  -97.74832  30.39868        AUSTIN   \n",
       "144                 Pflugerville H-E-B  -97.61330  30.43730  PFLUGERVILLE   \n",
       "142                   Tech Ridge H-E-B  -97.67201  30.40443        AUSTIN   \n",
       "147               Williams Drive H-E-B  -97.71873  30.68312    GEORGETOWN   \n",
       "132                  Four Points H-E-B  -97.85202  30.40458        AUSTIN   \n",
       "50            Lamar and Rundberg H-E-B  -97.69689  30.36357        AUSTIN   \n",
       "34                      Far West H-E-B  -97.75598  30.35289        AUSTIN   \n",
       "57                     Burnet Rd H-E-B  -97.74016  30.33374        AUSTIN   \n",
       "44                   Ed Blustein H-E-B  -97.66465  30.31211        AUSTIN   \n",
       "\n",
       "    manufacturer  distanceMiles  \n",
       "93                     2.363398  \n",
       "228                    2.870513  \n",
       "179                    3.547342  \n",
       "188                    4.083287  \n",
       "152                    5.357543  \n",
       "222                    6.040220  \n",
       "82                     6.193270  \n",
       "100                    6.464633  \n",
       "12                     7.073611  \n",
       "75                     7.210548  \n",
       "74                     7.308843  \n",
       "11                     7.373289  \n",
       "63                     8.080315  \n",
       "6                      8.104068  \n",
       "189                    8.565631  \n",
       "239                    8.792064  \n",
       "83                     9.453996  \n",
       "144                    9.458224  \n",
       "142                    9.513619  \n",
       "147                   10.259666  \n",
       "132                   11.680450  \n",
       "50                    11.902973  \n",
       "34                    12.643503  \n",
       "57                    13.861849  \n",
       "44                    15.750928  "
      ],
      "text/html": "<div>\n<style scoped>\n    .dataframe tbody tr th:only-of-type {\n        vertical-align: middle;\n    }\n\n    .dataframe tbody tr th {\n        vertical-align: top;\n    }\n\n    .dataframe thead th {\n        text-align: right;\n    }\n</style>\n<table border=\"1\" class=\"dataframe\">\n  <thead>\n    <tr style=\"text-align: right;\">\n      <th></th>\n      <th>storeNumber</th>\n      <th>zip</th>\n      <th>url</th>\n      <th>type</th>\n      <th>street</th>\n      <th>state</th>\n      <th>openTimeslots</th>\n      <th>openAppointmentSlots</th>\n      <th>name</th>\n      <th>longitude</th>\n      <th>latitude</th>\n      <th>city</th>\n      <th>manufacturer</th>\n      <th>distanceMiles</th>\n    </tr>\n  </thead>\n  <tbody>\n    <tr>\n      <th>93</th>\n      <td>373.0</td>\n      <td>78681-3922</td>\n      <td>None</td>\n      <td>store</td>\n      <td>16900 N RANCH ROAD 620</td>\n      <td>TX</td>\n      <td>0</td>\n      <td>0</td>\n      <td>620 and O'Connor H-E-B</td>\n      <td>-97.72218</td>\n      <td>30.50028</td>\n      <td>ROUND ROCK</td>\n      <td></td>\n      <td>2.363398</td>\n    </tr>\n    <tr>\n      <th>228</th>\n      <td>673.0</td>\n      <td>78665-1044</td>\n      <td>None</td>\n      <td>store</td>\n      <td>250 UNIVERSITY BLVD.</td>\n      <td>TX</td>\n      <td>0</td>\n      <td>0</td>\n      <td>University Blvd H-E-B</td>\n      <td>-97.68859</td>\n      <td>30.56107</td>\n      <td>ROUND ROCK</td>\n      <td></td>\n      <td>2.870513</td>\n    </tr>\n    <tr>\n      <th>179</th>\n      <td>580.0</td>\n      <td>78613-7273</td>\n      <td>None</td>\n      <td>store</td>\n      <td>2800 EAST WHITESTONE</td>\n      <td>TX</td>\n      <td>0</td>\n      <td>0</td>\n      <td>Parmer and Whitestone H-E-B</td>\n      <td>-97.78545</td>\n      <td>30.53280</td>\n      <td>CEDAR PARK</td>\n      <td></td>\n      <td>3.547342</td>\n    </tr>\n    <tr>\n      <th>188</th>\n      <td>591.0</td>\n      <td>78664-4677</td>\n      <td>None</td>\n      <td>store</td>\n      <td>1700 EAST PALM VALLEY BLVD</td>\n      <td>TX</td>\n      <td>0</td>\n      <td>0</td>\n      <td>Round Rock H-E-B plus!</td>\n      <td>-97.65978</td>\n      <td>30.51770</td>\n      <td>ROUND ROCK</td>\n      <td></td>\n      <td>4.083287</td>\n    </tr>\n    <tr>\n      <th>152</th>\n      <td>495.0</td>\n      <td>78664-7186</td>\n      <td>None</td>\n      <td>store</td>\n      <td>603 LOUIS HENNA BLVD. BLDG A</td>\n      <td>TX</td>\n      <td>0</td>\n      <td>0</td>\n      <td>Louis Henna Blvd H-E-B</td>\n      <td>-97.65938</td>\n      <td>30.48179</td>\n      <td>ROUND ROCK</td>\n      <td></td>\n      <td>5.357543</td>\n    </tr>\n    <tr>\n      <th>222</th>\n      <td>659.0</td>\n      <td>78717-5992</td>\n      <td>None</td>\n      <td>store</td>\n      <td>14028 NORTH US 183</td>\n      <td>TX</td>\n      <td>0</td>\n      <td>0</td>\n      <td>Lakeline H-E-B plus!</td>\n      <td>-97.80340</td>\n      <td>30.47786</td>\n      <td>AUSTIN</td>\n      <td></td>\n      <td>6.040220</td>\n    </tr>\n    <tr>\n      <th>82</th>\n      <td>265.0</td>\n      <td>78613-1900</td>\n      <td>None</td>\n      <td>store</td>\n      <td>170 E WHITESTONE BLVD</td>\n      <td>TX</td>\n      <td>0</td>\n      <td>0</td>\n      <td>Hwy 183 and Whitestone Blvd H-E-B</td>\n      <td>-97.82911</td>\n      <td>30.52250</td>\n      <td>CEDAR PARK</td>\n      <td></td>\n      <td>6.193270</td>\n    </tr>\n    <tr>\n      <th>100</th>\n      <td>388.0</td>\n      <td>78727-3901</td>\n      <td>None</td>\n      <td>store</td>\n      <td>6001 WEST PARMER LANE</td>\n      <td>TX</td>\n      <td>0</td>\n      <td>0</td>\n      <td>Parmer and McNeil H-E-B</td>\n      <td>-97.74278</td>\n      <td>30.44181</td>\n      <td>AUSTIN</td>\n      <td></td>\n      <td>6.464633</td>\n    </tr>\n    <tr>\n      <th>12</th>\n      <td>34.0</td>\n      <td>78664-4642</td>\n      <td>None</td>\n      <td>store</td>\n      <td>3750 GATTIS SCHOOL RD</td>\n      <td>TX</td>\n      <td>0</td>\n      <td>0</td>\n      <td>Gattis School Rd H-E-B</td>\n      <td>-97.61475</td>\n      <td>30.49721</td>\n      <td>ROUND ROCK</td>\n      <td></td>\n      <td>7.073611</td>\n    </tr>\n    <tr>\n      <th>75</th>\n      <td>237.0</td>\n      <td>78626-5400</td>\n      <td>None</td>\n      <td>store</td>\n      <td>1100 SOUTH IH35</td>\n      <td>TX</td>\n      <td>0</td>\n      <td>0</td>\n      <td>Georgetown H-E-B</td>\n      <td>-97.69028</td>\n      <td>30.63446</td>\n      <td>GEORGETOWN</td>\n      <td></td>\n      <td>7.210548</td>\n    </tr>\n    <tr>\n      <th>74</th>\n      <td>236.0</td>\n      <td>78660-3153</td>\n      <td>None</td>\n      <td>store</td>\n      <td>1434 WELLS BRANCH PKWY</td>\n      <td>TX</td>\n      <td>0</td>\n      <td>0</td>\n      <td>Wells Branch H-E-B</td>\n      <td>-97.66419</td>\n      <td>30.44263</td>\n      <td>PFLUGERVILLE</td>\n      <td></td>\n      <td>7.308843</td>\n    </tr>\n    <tr>\n      <th>11</th>\n      <td>31.0</td>\n      <td>78750-3222</td>\n      <td>None</td>\n      <td>store</td>\n      <td>12860 RESEARCH BLVD</td>\n      <td>TX</td>\n      <td>0</td>\n      <td>0</td>\n      <td>Spicewood Springs H-E-B</td>\n      <td>-97.77130</td>\n      <td>30.43494</td>\n      <td>AUSTIN</td>\n      <td></td>\n      <td>7.373289</td>\n    </tr>\n    <tr>\n      <th>63</th>\n      <td>218.0</td>\n      <td>78758-2475</td>\n      <td>None</td>\n      <td>store</td>\n      <td>12407 N. MOPAC EXPWY</td>\n      <td>TX</td>\n      <td>0</td>\n      <td>0</td>\n      <td>Parmer and Mopac H-E-B</td>\n      <td>-97.70326</td>\n      <td>30.41883</td>\n      <td>AUSTIN</td>\n      <td></td>\n      <td>8.080315</td>\n    </tr>\n    <tr>\n      <th>6</th>\n      <td>24.0</td>\n      <td>78726-1168</td>\n      <td>None</td>\n      <td>store</td>\n      <td>11521 NORTH FM620, BUILDING A</td>\n      <td>TX</td>\n      <td>0</td>\n      <td>0</td>\n      <td>Anderson Mill H-E-B plus!</td>\n      <td>-97.82626</td>\n      <td>30.45495</td>\n      <td>AUSTIN</td>\n      <td></td>\n      <td>8.104068</td>\n    </tr>\n    <tr>\n      <th>189</th>\n      <td>592.0</td>\n      <td>78641-7001</td>\n      <td>None</td>\n      <td>store</td>\n      <td>651 N. US HWY 183</td>\n      <td>TX</td>\n      <td>0</td>\n      <td>0</td>\n      <td>Leander H-E-B plus!</td>\n      <td>-97.85820</td>\n      <td>30.58369</td>\n      <td>LEANDER</td>\n      <td></td>\n      <td>8.565631</td>\n    </tr>\n    <tr>\n      <th>239</th>\n      <td>696.0</td>\n      <td>78634-2025</td>\n      <td>None</td>\n      <td>store</td>\n      <td>5000 GATTIS SCHOOL RD</td>\n      <td>TX</td>\n      <td>0</td>\n      <td>0</td>\n      <td>Hutto H-E-B plus!</td>\n      <td>-97.58284</td>\n      <td>30.50112</td>\n      <td>HUTTO</td>\n      <td></td>\n      <td>8.792064</td>\n    </tr>\n    <tr>\n      <th>83</th>\n      <td>269.0</td>\n      <td>78759-5780</td>\n      <td>None</td>\n      <td>store</td>\n      <td>10710 RESEARCH BLVD. STE 200</td>\n      <td>TX</td>\n      <td>0</td>\n      <td>0</td>\n      <td>North Hills H-E-B</td>\n      <td>-97.74832</td>\n      <td>30.39868</td>\n      <td>AUSTIN</td>\n      <td></td>\n      <td>9.453996</td>\n    </tr>\n    <tr>\n      <th>144</th>\n      <td>479.0</td>\n      <td>78660-8045</td>\n      <td>None</td>\n      <td>store</td>\n      <td>201 FM 685</td>\n      <td>TX</td>\n      <td>0</td>\n      <td>0</td>\n      <td>Pflugerville H-E-B</td>\n      <td>-97.61330</td>\n      <td>30.43730</td>\n      <td>PFLUGERVILLE</td>\n      <td></td>\n      <td>9.458224</td>\n    </tr>\n    <tr>\n      <th>142</th>\n      <td>476.0</td>\n      <td>78753-1632</td>\n      <td>None</td>\n      <td>store</td>\n      <td>500 CANYON RIDGE DR.</td>\n      <td>TX</td>\n      <td>0</td>\n      <td>0</td>\n      <td>Tech Ridge H-E-B</td>\n      <td>-97.67201</td>\n      <td>30.40443</td>\n      <td>AUSTIN</td>\n      <td></td>\n      <td>9.513619</td>\n    </tr>\n    <tr>\n      <th>147</th>\n      <td>487.0</td>\n      <td>78628-0</td>\n      <td>None</td>\n      <td>store</td>\n      <td>4500 FM 2338</td>\n      <td>TX</td>\n      <td>0</td>\n      <td>0</td>\n      <td>Williams Drive H-E-B</td>\n      <td>-97.71873</td>\n      <td>30.68312</td>\n      <td>GEORGETOWN</td>\n      <td></td>\n      <td>10.259666</td>\n    </tr>\n    <tr>\n      <th>132</th>\n      <td>451.0</td>\n      <td>78726-4539</td>\n      <td>None</td>\n      <td>store</td>\n      <td>7301 N FM 620</td>\n      <td>TX</td>\n      <td>0</td>\n      <td>0</td>\n      <td>Four Points H-E-B</td>\n      <td>-97.85202</td>\n      <td>30.40458</td>\n      <td>AUSTIN</td>\n      <td></td>\n      <td>11.680450</td>\n    </tr>\n    <tr>\n      <th>50</th>\n      <td>183.0</td>\n      <td>78753-4106</td>\n      <td>None</td>\n      <td>store</td>\n      <td>9414 N LAMAR BLVD</td>\n      <td>TX</td>\n      <td>0</td>\n      <td>0</td>\n      <td>Lamar and Rundberg H-E-B</td>\n      <td>-97.69689</td>\n      <td>30.36357</td>\n      <td>AUSTIN</td>\n      <td></td>\n      <td>11.902973</td>\n    </tr>\n    <tr>\n      <th>34</th>\n      <td>96.0</td>\n      <td>78731-3023</td>\n      <td>None</td>\n      <td>store</td>\n      <td>7015 VILLAGE CTR DR.</td>\n      <td>TX</td>\n      <td>0</td>\n      <td>0</td>\n      <td>Far West H-E-B</td>\n      <td>-97.75598</td>\n      <td>30.35289</td>\n      <td>AUSTIN</td>\n      <td></td>\n      <td>12.643503</td>\n    </tr>\n    <tr>\n      <th>57</th>\n      <td>202.0</td>\n      <td>78756-1100</td>\n      <td>None</td>\n      <td>store</td>\n      <td>5808 BURNET RD</td>\n      <td>TX</td>\n      <td>0</td>\n      <td>0</td>\n      <td>Burnet Rd H-E-B</td>\n      <td>-97.74016</td>\n      <td>30.33374</td>\n      <td>AUSTIN</td>\n      <td></td>\n      <td>13.861849</td>\n    </tr>\n    <tr>\n      <th>44</th>\n      <td>161.0</td>\n      <td>78723-2924</td>\n      <td>None</td>\n      <td>store</td>\n      <td>7112 ED BLUESTEIN_#125</td>\n      <td>TX</td>\n      <td>0</td>\n      <td>0</td>\n      <td>Ed Blustein H-E-B</td>\n      <td>-97.66465</td>\n      <td>30.31211</td>\n      <td>AUSTIN</td>\n      <td></td>\n      <td>15.750928</td>\n    </tr>\n  </tbody>\n</table>\n</div>"
     },
     "metadata": {},
     "execution_count": 12
    }
   ],
   "source": [
    "df[df['distanceMiles'].notna()].sort_values(by = ['distanceMiles'])"
   ]
  }
 ],
 "metadata": {
  "kernelspec": {
   "display_name": "Python 3.7.5 64-bit ('ompnt_random_code': pipenv)",
   "language": "python",
   "name": "python37564bitompntrandomcodepipenv89f852e5fde44eed82ac68e86353cd24"
  },
  "language_info": {
   "codemirror_mode": {
    "name": "ipython",
    "version": 3
   },
   "file_extension": ".py",
   "mimetype": "text/x-python",
   "name": "python",
   "nbconvert_exporter": "python",
   "pygments_lexer": "ipython3",
   "version": "3.9.2"
  }
 },
 "nbformat": 4,
 "nbformat_minor": 5
}